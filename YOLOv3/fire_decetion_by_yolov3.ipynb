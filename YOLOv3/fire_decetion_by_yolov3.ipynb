{
  "nbformat": 4,
  "nbformat_minor": 0,
  "metadata": {
    "colab": {
      "name": "fire_decetion_by_yolov3",
      "provenance": [],
      "collapsed_sections": [],
      "include_colab_link": true
    },
    "kernelspec": {
      "name": "python3",
      "display_name": "Python 3"
    },
    "accelerator": "GPU"
  },
  "cells": [
    {
      "cell_type": "markdown",
      "metadata": {
        "id": "view-in-github",
        "colab_type": "text"
      },
      "source": [
        "<a href=\"https://colab.research.google.com/github/kim-yujin497/DSU_ML_2022/blob/main/fire_decetion_by_yolov3.ipynb\" target=\"_parent\"><img src=\"https://colab.research.google.com/assets/colab-badge.svg\" alt=\"Open In Colab\"/></a>"
      ]
    },
    {
      "cell_type": "markdown",
      "metadata": {
        "id": "RCRQLOGEoJsM"
      },
      "source": [
        "#yolo v3 기반 실시간 화재판별 시스템"
      ]
    },
    {
      "cell_type": "markdown",
      "metadata": {
        "id": "EPcKXmKJtgvq"
      },
      "source": [
        "## Darknet 빌드"
      ]
    },
    {
      "cell_type": "code",
      "metadata": {
        "id": "qdQWft7loUTA"
      },
      "source": [
        "!git clone https://github.com/AlexeyAB/darknet "
      ],
      "execution_count": null,
      "outputs": []
    },
    {
      "cell_type": "code",
      "metadata": {
        "id": "PGiduF4bpUZ-"
      },
      "source": [
        "%cd darknet\n",
        "!sed -i 's/GPU=0/GPU=1/g' Makefile\n",
        "!sed -i 's/OPENCV=0/OPENCV=1/g' Makefile\n",
        "!cat Makefile\n",
        "!make"
      ],
      "execution_count": null,
      "outputs": []
    },
    {
      "cell_type": "markdown",
      "metadata": {
        "id": "guZasLRGpgRD"
      },
      "source": [
        "## Dataset 불러오기\n",
        "\n",
        "Bounding Box 라벨링 된 화재 사진,화재 동영상들.  \n",
        "\n",
        "https://drive.google.com/openid=1bT6jGRyNnqoaQTD5v4mcEDshRB2NkBQY"
      ]
    },
    {
      "cell_type": "code",
      "metadata": {
        "id": "uQ_Vl3RzpmPU"
      },
      "source": [
        "import os.path\n",
        "import shutil\n",
        "from google.colab import drive\n",
        "\n",
        "if not os.path.exists('/content/gdrive'):\n",
        "  drive.mount('/content/gdrive',force_remount=True)\n",
        "  \n",
        "DOWNLOAD_LOCATION = '/content/darknet/data/'\n",
        "DRIVE_DATASET_FILE = '/content/drive/MyDrive/FBI_dataset.zip\n",
        "\n",
        "shutil.copy(DRIVE_DATASET_FILE, DOWNLOAD_LOCATION)\n",
        "\n",
        "print('Successfully downloaded the dataset')"
      ],
      "execution_count": null,
      "outputs": []
    },
    {
      "cell_type": "markdown",
      "metadata": {
        "id": "6mv4-cjHrjV0"
      },
      "source": [
        "### Unzip the dataset"
      ]
    },
    {
      "cell_type": "code",
      "metadata": {
        "id": "8MrNs0X2rixE"
      },
      "source": [
        "!unzip /content/darknet/data/FBI_dataset.zip -d data/ "
      ],
      "execution_count": null,
      "outputs": []
    },
    {
      "cell_type": "markdown",
      "metadata": {
        "id": "eOu8mUqOusF6"
      },
      "source": [
        "## Yolo v3 가중치 가져오기\n"
      ]
    },
    {
      "cell_type": "code",
      "metadata": {
        "id": "v9DIiCpAsNpK"
      },
      "source": [
        "!wget https://pjreddie.com/media/files/darknet53.conv.74"
      ],
      "execution_count": null,
      "outputs": []
    },
    {
      "cell_type": "markdown",
      "metadata": {
        "id": "BYioQTjxtuMr"
      },
      "source": [
        "## cfg 파일 수정\n",
        "\n",
        "**Darknet** README에 있는 권장사항\n",
        "\n",
        "- batch\n",
        "- subdivisions \n",
        "(if you get memory out error, increase this 16, 32 or 64)\n",
        "- max_batches \n",
        "(it should be classes*2000)\n",
        "- steps \n",
        "(it should be 80%, 90% of max_batches)\n",
        "- classes \n",
        "(the number of classes which you are going to train)\n",
        "- filters \n",
        "(the value for filters can be calculated using (classes + 5)x3 )\n"
      ]
    },
    {
      "cell_type": "code",
      "metadata": {
        "id": "ymbna8dntyTI"
      },
      "source": [
        "%cd /content/darknet\n",
        "!sed -i 's/batch=1/batch=64/g' cfg/yolov3.cfg\n",
        "!sed -i 's/subdivisions=1/subdivisions=16/g' cfg/yolov3.cfg\n",
        "!sed -i 's/max_batches = 500200/max_batches = 6000/g' cfg/yolov3.cfg\n",
        "!sed -i 's/steps=400000,450000/steps=4800,5400/g' cfg/yolov3.cfg\n",
        "!sed -i 's/classes=80/classes=3/g' cfg/yolov3.cfg\n",
        "!sed -i 's/filters=255/filters=24/g' cfg/yolov3.cfg\n",
        "!sed -i 's/width=416/width=224/g' cfg/yolov3.cfg\n",
        "!sed -i 's/height=416/height=224/g' cfg/yolov3.cfg\n",
        "\n",
        "!cat cfg/yolov3.cfg"
      ],
      "execution_count": null,
      "outputs": []
    },
    {
      "cell_type": "markdown",
      "metadata": {
        "id": "mRRffYhouYJp"
      },
      "source": [
        "# 학습하기"
      ]
    },
    {
      "cell_type": "markdown",
      "metadata": {
        "id": "6Cb-6hLWwgi6"
      },
      "source": [
        "### Train,Test 데이터 분리\n",
        "\n",
        "- Model에 넣을 파일명 .PNG 확장자만 가능!\n"
      ]
    },
    {
      "cell_type": "code",
      "metadata": {
        "id": "UgdWlBo_sqvh"
      },
      "source": [
        "import os\n",
        "import sys\n",
        "\n",
        "CURRENT_DIR = '/content/darknet/data/img'\n",
        "\n",
        "def progressBar(value, endvalue, bar_length=20):\n",
        "  percent = float(value) / endvalue\n",
        "  arrow = '-' * int(round(percent * bar_length)-1) + '>'\n",
        "  spaces = ' ' * (bar_length - len(arrow))\n",
        "\n",
        "  sys.stdout.write(\"\\rPercent: [{0}] {1}%\".format(arrow + spaces, int(round(percent * 100))))\n",
        "  sys.stdout.flush()\n",
        "\n",
        "def returnFileList(dirname, extract):\n",
        "  fileList = []\n",
        "  filenames = os.listdir(dirname)\n",
        "  for filename in filenames:\n",
        "    ext = os.path.splitext(filename)[-1]\n",
        "    if ext == extract: \n",
        "      fileList.append(filename)\n",
        "  return fileList\n",
        "\n",
        "fileNames = returnFileList(CURRENT_DIR, \".png\")\n",
        "\n",
        "from sklearn.model_selection import train_test_split\n",
        "train,test = train_test_split(fileNames, test_size=0.1, random_state=123)\n",
        "train,valid = train_test_split(train,test_size=0.1,random_state=123)\n",
        "\n",
        "\n",
        "with open(\"/content/darknet/data/train.txt\",\"w\") as fileList:\n",
        "  for i, names in enumerate(train):\n",
        "    fileList.write(CURRENT_DIR+\"/\"+names+\"\\n\")\n",
        "    progressBar(i, len(train), bar_length=100)\n",
        "\n",
        "with open(\"/content/darknet/data/valid.txt\",\"w\") as fileList:\n",
        "  for i, names in enumerate(valid):\n",
        "    fileList.write(CURRENT_DIR+\"/\"+names+\"\\n\")\n",
        "    progressBar(i, len(valid), bar_length=100)\n",
        "\n",
        "with open(\"/content/darknet/data/test.txt\",\"w\") as fileList:\n",
        "  for i, names in enumerate(test):\n",
        "    fileList.write(CURRENT_DIR+\"/\"+names+\"\\n\")\n",
        "    progressBar(i, len(test), bar_length=100)"
      ],
      "execution_count": null,
      "outputs": []
    },
    {
      "cell_type": "code",
      "metadata": {
        "id": "vbfDfCnoua1i"
      },
      "source": [
        "!./darknet detector train data/obj.data cfg/yolov3.cfg darknet53.conv.74 -dont_show"
      ],
      "execution_count": null,
      "outputs": []
    },
    {
      "cell_type": "markdown",
      "metadata": {
        "id": "E-VT5SW2xBUD"
      },
      "source": [
        "### 학습이 종료된 후 weight 업로드"
      ]
    },
    {
      "cell_type": "code",
      "metadata": {
        "id": "TTliLPwYOk0d"
      },
      "source": [
        "import os.path\n",
        "import shutil\n",
        "from google.colab import drive\n",
        "\n",
        "if not os.path.exists('/content/drive'):\n",
        "  drive.mount('/content/drive')\n",
        "  \n",
        "YOLO_BACKUP = '/content/darknet/backup/yolov3_last.weights' \n",
        "DRIVE_DIR = '/content/drive/MyDrive/ai/weight' \n",
        "\n",
        "shutil.copy(YOLO_BACKUP, DRIVE_DIR)\n",
        "\n",
        "print('Saved training data to drive at: ' + DRIVE_DIR)"
      ],
      "execution_count": null,
      "outputs": []
    },
    {
      "cell_type": "markdown",
      "metadata": {
        "id": "zjtGF5X-wjgJ"
      },
      "source": [
        "# 평가하기"
      ]
    },
    {
      "cell_type": "code",
      "metadata": {
        "id": "zQmajkpYw14Q"
      },
      "source": [
        "%cd /content/darknet"
      ],
      "execution_count": null,
      "outputs": []
    },
    {
      "cell_type": "code",
      "metadata": {
        "id": "WWYmR-uPwmRX"
      },
      "source": [
        "!./darknet detector map  data/obj.data cfg/yolov3.cfg backup/yolov3_last.weights"
      ],
      "execution_count": null,
      "outputs": []
    },
    {
      "cell_type": "markdown",
      "metadata": {
        "id": "67xSMGMx2Qdo"
      },
      "source": [
        "# Prediction"
      ]
    },
    {
      "cell_type": "code",
      "metadata": {
        "id": "o7RHTzYj2T98"
      },
      "source": [
        "!./darknet detector test data/obj.data cfg/yolov3.cfg backup/yolov3_last.weights data/fire2.jpg -dont_show #'data/테스트이미지 이름.png' "
      ],
      "execution_count": null,
      "outputs": []
    },
    {
      "cell_type": "markdown",
      "metadata": {
        "id": "_4jl4WkaanCY"
      },
      "source": [
        "### 결과 출력"
      ]
    },
    {
      "cell_type": "code",
      "metadata": {
        "id": "TeO5iiKNGUH-"
      },
      "source": [
        "def display_image(file_path = '/content/darknet/predictions.jpg'):\n",
        "    import cv2\n",
        "    import matplotlib.pyplot as plt\n",
        "    import os.path\n",
        "\n",
        "    if os.path.exists(file_path):\n",
        "      img = cv2.imread(file_path)\n",
        "      show_img = cv2.cvtColor(img, cv2.COLOR_BGR2RGB) \n",
        "      plt.imshow(show_img)\n",
        "    else:\n",
        "      print('failed to open file')\n",
        "    \n",
        "display_image()"
      ],
      "execution_count": null,
      "outputs": []
    },
    {
      "cell_type": "markdown",
      "source": [
        "# Upload"
      ],
      "metadata": {
        "id": "I5O_ucm0EBRF"
      }
    },
    {
      "cell_type": "code",
      "source": [
        "def upload():\n",
        "   from google.colab import files\n",
        "   upload = file.upload()\n",
        "  for name, data in upload.items():\n",
        "    with open(name, 'wb') as f:\n",
        "      f.write(data)\n",
        "      print('saved file', name)"
      ],
      "metadata": {
        "id": "F7MY0HwhELji"
      },
      "execution_count": null,
      "outputs": []
    },
    {
      "cell_type": "code",
      "source": [
        "upload()"
      ],
      "metadata": {
        "id": "v1KI4CiKEuxa"
      },
      "execution_count": null,
      "outputs": []
    },
    {
      "cell_type": "markdown",
      "source": [
        "# Prediction"
      ],
      "metadata": {
        "id": "BEKuOo4KGRef"
      }
    },
    {
      "cell_type": "code",
      "source": [
        "!./darknet detector test data/obj.data cfg/yolov3.cfg backup/yolov3_last.weights -dont_show -out_filename yolo_video.mp4 "
      ],
      "metadata": {
        "id": "EofwwTZWEwR4"
      },
      "execution_count": null,
      "outputs": []
    },
    {
      "cell_type": "code",
      "source": [
        "import cv2\n",
        "import numpy as np\n",
        "import time # -- 프레임 계산을 위해 사용\n",
        "\n",
        "\n",
        "vedio_path = '/content/darknet/data/fire.mp4' #-- 사용할 영상 경로\n",
        "min_confidence = 0.5\n",
        "\n",
        "def detectAndDisplay(frame):\n",
        "    start_time = time.time()\n",
        "    img = cv2.resize(frame, None, fx=0.8, fy=0.8)\n",
        "    height, width, channels = img.shape\n",
        "    cv2.imshow(\"Original Image\", img)\n",
        "\n",
        "    #-- 창 크기 설정\n",
        "    blob = cv2.dnn.blobFromImage(img, 0.00392, (416, 416), (0, 0, 0), True, crop=False)\n",
        "\n",
        "    net.setInput(blob)\n",
        "    outs = net.forward(output_layers)\n",
        "\n",
        "    #-- 탐지한 객체의 클래스 예측 \n",
        "    class_ids = []\n",
        "    confidences = []\n",
        "    boxes = []\n",
        "\n",
        "    for out in outs:\n",
        "        for detection in out:\n",
        "            scores = detection[5:]\n",
        "            class_id = np.argmax(scores)\n",
        "            confidence = scores[class_id]\n",
        "            if confidence > min_confidence:\n",
        "                # 탐지한 객체 박싱\n",
        "                center_x = int(detection[0] * width)\n",
        "                center_y = int(detection[1] * height)\n",
        "                w = int(detection[2] * width)\n",
        "                h = int(detection[3] * height)\n",
        "               \n",
        "                x = int(center_x - w / 2)\n",
        "                y = int(center_y - h / 2)\n",
        "\n",
        "                boxes.append([x, y, w, h])\n",
        "                confidences.append(float(confidence))\n",
        "                class_ids.append(class_id)\n",
        "                indexes = cv2.dnn.NMSBoxes(boxes, confidences, min_confidence, 0.4)\n",
        "\n",
        "    font = cv2.FONT_HERSHEY_DUPLEX\n",
        "    for i in range(len(boxes)):\n",
        "        if i in indexes:\n",
        "            x, y, w, h = boxes[i]\n",
        "            label = \"{}: {:.2f}\".format(classes[class_ids[i]], confidences[i]*100)\n",
        "            print(i, label)\n",
        "            color = colors[i] #-- 경계 상자 컬러 설정 / 단일 생상 사용시 (255,255,255)사용(B,G,R)\n",
        "            cv2.rectangle(img, (x, y), (x + w, y + h), color, 2)\n",
        "            cv2.putText(img, label, (x, y - 5), font, 1, color, 1)\n",
        "            \n",
        "    end_time = time.time()\n",
        "    process_time = end_time - start_time\n",
        "    # print(\"=== A frame took {:.3f} seconds\".format(process_time))\n",
        "    # cv2.imshow(\"YOLO test\", img)\n",
        "    \n",
        "#-- yolo 포맷 및 클래스명 불러오기\n",
        "model_file = '/ontent/darknet/backup/yolov3_last.weights' #-- 본인 개발 환경에 맞게 변경할 것\n",
        "config_file = '/content/darknet/cfg/yolov3.cfg' #-- 본인 개발 환경에 맞게 변경할 것\n",
        "net = cv2.dnn.readNet(model_file, config_file)\n",
        "\n",
        "\n",
        "#-- 클래스(names파일) 오픈 / 본인 개발 환경에 맞게 변경할 것\n",
        "classes = []\n",
        "with open(\"/content/darknet/data/obj.names\", \"r\") as f:\n",
        "    classes = [line.strip() for line in f.readlines()]\n",
        "layer_names = net.getLayerNames()\n",
        "output_layers = [layer_names[i[0] - 1] for i in net.getUnconnectedOutLayers()]\n",
        "colors = np.random.uniform(0, 255, size=(len(classes), 3))\n",
        "\n",
        "#-- 비디오 활성화\n",
        "cap = cv2.VideoCapture(vedio_path) #-- 웹캠 사용시 vedio_path를 0 으로 변경\n",
        "if not cap.isOpened:\n",
        "    print('--(!)Error opening video capture')\n",
        "    exit(0)\n",
        "while True:\n",
        "    ret, frame = cap.read()\n",
        "    if frame is None:\n",
        "        print('--(!) No captured frame -- Break!')\n",
        "        break\n",
        "    detectAndDisplay(frame)\n",
        "    #-- q 입력시 종료\n",
        "    if cv2.waitKey(1) & 0xFF == ord('q'):\n",
        "        break\n",
        "\n",
        "cv2.destroyAllWindows()"
      ],
      "metadata": {
        "id": "o62hyRh5FRK-"
      },
      "execution_count": null,
      "outputs": []
    }
  ]
}
