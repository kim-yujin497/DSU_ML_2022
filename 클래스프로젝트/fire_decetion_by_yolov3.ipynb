{
  "nbformat": 4,
  "nbformat_minor": 0,
  "metadata": {
    "colab": {
      "name": "fire_decetion_by_yolov3",
      "provenance": [],
      "collapsed_sections": [],
      "toc_visible": true,
      "include_colab_link": true
    },
    "kernelspec": {
      "name": "python3",
      "display_name": "Python 3"
    },
    "accelerator": "GPU"
  },
  "cells": [
    {
      "cell_type": "markdown",
      "metadata": {
        "id": "view-in-github",
        "colab_type": "text"
      },
      "source": [
        "<a href=\"https://colab.research.google.com/github/kim-yujin497/DSU_ML_2022/blob/main/fire_decetion_by_yolov3.ipynb\" target=\"_parent\"><img src=\"https://colab.research.google.com/assets/colab-badge.svg\" alt=\"Open In Colab\"/></a>"
      ]
    },
    {
      "cell_type": "markdown",
      "metadata": {
        "id": "RCRQLOGEoJsM"
      },
      "source": [
        "#yolo v3 기반 실시간 화재판별 시스템"
      ]
    },
    {
      "cell_type": "markdown",
      "metadata": {
        "id": "EPcKXmKJtgvq"
      },
      "source": [
        "## Darknet 빌드"
      ]
    },
    {
      "cell_type": "code",
      "metadata": {
        "id": "qdQWft7loUTA"
      },
      "source": [
        "!git clone https://github.com/AlexeyAB/darknet "
      ],
      "execution_count": null,
      "outputs": []
    },
    {
      "cell_type": "code",
      "metadata": {
        "id": "PGiduF4bpUZ-"
      },
      "source": [
        "%cd darknet\n",
        "!sed -i 's/GPU=0/GPU=1/g' Makefile\n",
        "\n",
        "!cat Makefile\n",
        "!make"
      ],
      "execution_count": null,
      "outputs": []
    },
    {
      "cell_type": "markdown",
      "metadata": {
        "id": "guZasLRGpgRD"
      },
      "source": [
        "## Dataset 불러오기\n",
        "\n",
        "Bounding Box 라벨링 된 화재 사진,화재 동영상들.  \n",
        "\n",
        "https://drive.google.com/openid=1bT6jGRyNnqoaQTD5v4mcEDshRB2NkBQY"
      ]
    },
    {
      "cell_type": "code",
      "metadata": {
        "id": "uQ_Vl3RzpmPU"
      },
      "source": [
        "import os.path\n",
        "import shutil\n",
        "from google.colab import drive\n",
        "\n",
        "if not os.path.exists('/content/gdrive'):\n",
        "  drive.mount('/content/gdrive',force_remount=True)\n",
        "  \n",
        "DOWNLOAD_LOCATION = '/content/darknet/data/'\n",
        "DRIVE_DATASET_FILE = '/content/gdrive/My Drive/FBI_dataset.zip\n",
        "\n",
        "shutil.copy(DRIVE_DATASET_FILE, DOWNLOAD_LOCATION)\n",
        "\n",
        "\n",
        "print('Successfully downloaded the dataset')"
      ],
      "execution_count": null,
      "outputs": []
    },
    {
      "cell_type": "markdown",
      "metadata": {
        "id": "6mv4-cjHrjV0"
      },
      "source": [
        "### Unzip the dataset"
      ]
    },
    {
      "cell_type": "code",
      "metadata": {
        "id": "8MrNs0X2rixE"
      },
      "source": [
        "!unzip /content/darknet/data/FBI_dataset.zip -d data/ "
      ],
      "execution_count": null,
      "outputs": []
    },
    {
      "cell_type": "markdown",
      "metadata": {
        "id": "eOu8mUqOusF6"
      },
      "source": [
        "## Yolo v3 가중치 가져오기\n"
      ]
    },
    {
      "cell_type": "code",
      "metadata": {
        "id": "v9DIiCpAsNpK"
      },
      "source": [
        "!wget https://pjreddie.com/media/files/darknet53.conv.74  "
      ],
      "execution_count": null,
      "outputs": []
    },
    {
      "cell_type": "markdown",
      "metadata": {
        "id": "BYioQTjxtuMr"
      },
      "source": [
        "## cfg 파일 수정하기\n",
        "\n",
        "**Darknet** README에 있는 권장사항\n",
        "\n",
        "- batch\n",
        "- subdivisions \n",
        "(if you get memory out error, increase this 16, 32 or 64)\n",
        "- max_batches \n",
        "(it should be classes*2000)\n",
        "- steps \n",
        "(it should be 80%, 90% of max_batches)\n",
        "- classes \n",
        "(the number of classes which you are going to train)\n",
        "- filters \n",
        "(the value for filters can be calculated using (classes + 5)x3 )\n"
      ]
    },
    {
      "cell_type": "code",
      "metadata": {
        "id": "ymbna8dntyTI"
      },
      "source": [
        "%cd /content/darknet\n",
        "!sed -i 's/batch=1/batch=64/g' cfg/yolov3.cfg\n",
        "!sed -i 's/subdivisions=1/subdivisions=16/g' cfg/yolov3.cfg\n",
        "!sed -i 's/max_batches = 500200/max_batches = 6000/g' cfg/yolov3.cfg\n",
        "!sed -i 's/steps=400000,450000/steps=4800,5400/g' cfg/yolov3.cfg\n",
        "!sed -i 's/classes=80/classes=3/g' cfg/yolov3.cfg\n",
        "!sed -i 's/filters=255/filters=24/g' cfg/yolov3.cfg\n",
        "!sed -i 's/width=416/width=224/g' cfg/yolov3.cfg\n",
        "!sed -i 's/height=416/height=224/g' cfg/yolov3.cfg\n",
        "\n",
        "!cat cfg/yolov3.cfg"
      ],
      "execution_count": null,
      "outputs": []
    },
    {
      "cell_type": "markdown",
      "metadata": {
        "id": "br8phhE-N1MW"
      },
      "source": [
        "## 학습되었던 가중치 가져오기  \n"
      ]
    },
    {
      "cell_type": "code",
      "metadata": {
        "id": "0Dgv3LnvOAB3"
      },
      "source": [
        "# 이전에 train 한 가중치가 있을 때 아래 cell을 실행\n",
        "\n",
        "import os.path\n",
        "import shutil\n",
        "from google.colab import drive\n",
        "\n",
        "if not os.path.exists('/content/gdrive'):\n",
        "  drive.mount('/content/gdrive')\n",
        "  \n",
        "BACKUP_FOLDER = '/content/darknet/backup'\n",
        "DRIVE_YOLO_BACKUP = '/content/gdrive/My Drive/ai/weight/yolov3_last.weights'\n",
        "\n",
        "shutil.copy(DRIVE_YOLO_BACKUP, BACKUP_FOLDER)\n",
        "\n",
        "print('Successfully fetched the pretrained files for Yolo from Google drive')"
      ],
      "execution_count": null,
      "outputs": []
    },
    {
      "cell_type": "markdown",
      "metadata": {
        "id": "mRRffYhouYJp"
      },
      "source": [
        "# 학습하기\n",
        "1) 100 iteration 마다 yolo-obj_llast.weight가 저장  \n",
        "2) 1000 iteration 마다 yolo-obj_xxxx.weight가 저장\n"
      ]
    },
    {
      "cell_type": "markdown",
      "metadata": {
        "id": "6Cb-6hLWwgi6"
      },
      "source": [
        "### Train,Test 데이터 분리하기\n",
        "\n",
        "- Model에 넣을 파일명을 가져온다 ( PNG확장자만 가능!)\n"
      ]
    },
    {
      "cell_type": "code",
      "metadata": {
        "id": "UgdWlBo_sqvh"
      },
      "source": [
        "### train과 test 데이터 파일 리스트를 만들어주는 함수\n",
        "\n",
        "import os\n",
        "import sys\n",
        "\n",
        "CURRENT_DIR = '/content/darknet/data/img'\n",
        "\n",
        "def progressBar(value, endvalue, bar_length=20):\n",
        "  percent = float(value) / endvalue\n",
        "  arrow = '-' * int(round(percent * bar_length)-1) + '>'\n",
        "  spaces = ' ' * (bar_length - len(arrow))\n",
        "\n",
        "  sys.stdout.write(\"\\rPercent: [{0}] {1}%\".format(arrow + spaces, int(round(percent * 100))))\n",
        "  sys.stdout.flush()\n",
        "\n",
        "def returnFileList(dirname, extract):\n",
        "  fileList = []\n",
        "  filenames = os.listdir(dirname)\n",
        "  for filename in filenames:\n",
        "    ext = os.path.splitext(filename)[-1]\n",
        "    if ext == extract: \n",
        "      fileList.append(filename)\n",
        "  return fileList\n",
        "\n",
        "fileNames = returnFileList(CURRENT_DIR, \".png\")\n",
        "\n",
        "from sklearn.model_selection import train_test_split\n",
        "train,test = train_test_split(fileNames, test_size=0.1, random_state=123)\n",
        "train,valid = train_test_split(train,test_size=0.1,random_state=123)\n",
        "\n",
        "\n",
        "with open(\"/content/darknet/data/train.txt\",\"w\") as fileList:\n",
        "  for i, names in enumerate(train):\n",
        "    fileList.write(CURRENT_DIR+\"/\"+names+\"\\n\")\n",
        "    progressBar(i, len(train), bar_length=100)\n",
        "\n",
        "with open(\"/content/darknet/data/valid.txt\",\"w\") as fileList:\n",
        "  for i, names in enumerate(valid):\n",
        "    fileList.write(CURRENT_DIR+\"/\"+names+\"\\n\")\n",
        "    progressBar(i, len(valid), bar_length=100)\n",
        "\n",
        "with open(\"/content/darknet/data/test.txt\",\"w\") as fileList:\n",
        "  for i, names in enumerate(test):\n",
        "    fileList.write(CURRENT_DIR+\"/\"+names+\"\\n\")\n",
        "    progressBar(i, len(test), bar_length=100)"
      ],
      "execution_count": null,
      "outputs": []
    },
    {
      "cell_type": "code",
      "metadata": {
        "id": "vbfDfCnoua1i"
      },
      "source": [
        "# 처음부터 시작할 때, 이 코드를 실행\n",
        "!./darknet detector train data/obj.data cfg/yolov3.cfg darknet53.conv.74\n",
        "\n",
        "# 저장된 weight가 있을 때, 이 코드를 실행\n",
        "#!./darknet detector train data/obj.data cfg/yolov3.cfg backup/yolov3_last.weights"
      ],
      "execution_count": null,
      "outputs": []
    },
    {
      "cell_type": "markdown",
      "metadata": {
        "id": "E-VT5SW2xBUD"
      },
      "source": [
        "### 학습이 종료된 후 weight 업로드 하기\n",
        "- 경로는 환경에 맞게 수정!\n"
      ]
    },
    {
      "cell_type": "code",
      "metadata": {
        "id": "TTliLPwYOk0d"
      },
      "source": [
        "import os.path\n",
        "import shutil\n",
        "from google.colab import drive\n",
        "\n",
        "if not os.path.exists('/content/gdrive'):\n",
        "  drive.mount('/content/gdrive')\n",
        "  \n",
        "YOLO_BACKUP = '/content/darknet/backup/yolov3_last.weights' \n",
        "DRIVE_DIR = '/content/gdrive/My Drive/ai/weight' \n",
        "\n",
        "shutil.copy(YOLO_BACKUP, DRIVE_DIR)\n",
        "\n",
        "print('Saved training data to drive at: ' + DRIVE_DIR)"
      ],
      "execution_count": null,
      "outputs": []
    },
    {
      "cell_type": "markdown",
      "metadata": {
        "id": "zjtGF5X-wjgJ"
      },
      "source": [
        "# 평가하기"
      ]
    },
    {
      "cell_type": "code",
      "metadata": {
        "id": "zQmajkpYw14Q"
      },
      "source": [
        "#cd /content/darknet"
      ],
      "execution_count": null,
      "outputs": []
    },
    {
      "cell_type": "code",
      "metadata": {
        "id": "WWYmR-uPwmRX"
      },
      "source": [
        "!./darknet detector map  data/obj.data cfg/yolov3.cfg backup/yolov3_last.weights"
      ],
      "execution_count": null,
      "outputs": []
    },
    {
      "cell_type": "markdown",
      "metadata": {
        "id": "67xSMGMx2Qdo"
      },
      "source": [
        "# Prediction"
      ]
    },
    {
      "cell_type": "code",
      "metadata": {
        "id": "o7RHTzYj2T98"
      },
      "source": [
        "!./darknet detector test data/obj.data cfg/yolov3.cfg backup/yolov3_last.weights 'data/테스트이미지 이름.png' "
      ],
      "execution_count": null,
      "outputs": []
    },
    {
      "cell_type": "markdown",
      "metadata": {
        "id": "_4jl4WkaanCY"
      },
      "source": [
        "### 결과 출력"
      ]
    },
    {
      "cell_type": "code",
      "metadata": {
        "id": "TeO5iiKNGUH-"
      },
      "source": [
        "def display_image(file_path = '/content/darknet/predictions.jpg'):\n",
        "    import cv2\n",
        "    import matplotlib.pyplot as plt\n",
        "    import os.path\n",
        "\n",
        "    if os.path.exists(file_path):\n",
        "      img = cv2.imread(file_path)\n",
        "      show_img = cv2.cvtColor(img, cv2.COLOR_BGR2RGB) \n",
        "      plt.imshow(show_img)\n",
        "    else:\n",
        "      print('failed to open file')\n",
        "    \n",
        "display_image()"
      ],
      "execution_count": null,
      "outputs": []
    }
  ]
}
